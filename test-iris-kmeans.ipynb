{
 "cells": [
  {
   "cell_type": "markdown",
   "metadata": {},
   "source": [
    "# First SageMaker Notebook"
   ]
  },
  {
   "cell_type": "code",
   "execution_count": 1,
   "metadata": {},
   "outputs": [],
   "source": [
    "# Define IAM role\n",
    "import boto3\n",
    "from sagemaker import get_execution_role"
   ]
  },
  {
   "cell_type": "code",
   "execution_count": 2,
   "metadata": {},
   "outputs": [
    {
     "data": {
      "text/plain": [
       "'arn:aws:iam::553243691765:role/service-role/AmazonSageMaker-ExecutionRole-20190304T180164'"
      ]
     },
     "execution_count": 2,
     "metadata": {},
     "output_type": "execute_result"
    }
   ],
   "source": [
    "bucket = 'sagemaker-test-mdebbich'\n",
    "# If you don't have any specific bucket you can automatically create one using :\n",
    "# bucket = Session().default_bucket()\n",
    "\n",
    "prefix = 'test-iris/kmeans'\n",
    "role = get_execution_role()\n",
    "role"
   ]
  },
  {
   "cell_type": "markdown",
   "metadata": {},
   "source": [
    "# Data Exploration"
   ]
  },
  {
   "cell_type": "code",
   "execution_count": 3,
   "metadata": {},
   "outputs": [],
   "source": [
    "import matplotlib.pyplot as plt\n",
    "from sklearn import datasets\n",
    "import pandas as pd\n",
    "import numpy as np"
   ]
  },
  {
   "cell_type": "markdown",
   "metadata": {},
   "source": [
    "Load Iris Data :"
   ]
  },
  {
   "cell_type": "code",
   "execution_count": 4,
   "metadata": {},
   "outputs": [],
   "source": [
    "iris = datasets.load_iris()\n",
    "iris_data = pd.DataFrame(iris[\"data\"], columns= iris[\"feature_names\"])\n",
    "iris_data[\"target\"] = iris[\"target\"]\n",
    "iris_data[\"species\"] = iris[\"target\"]\n",
    "iris_data[\"species\"] = iris_data[\"species\"].astype(\"category\").cat.rename_categories(iris[\"target_names\"])"
   ]
  },
  {
   "cell_type": "code",
   "execution_count": 5,
   "metadata": {},
   "outputs": [
    {
     "data": {
      "text/html": [
       "<div>\n",
       "<style scoped>\n",
       "    .dataframe tbody tr th:only-of-type {\n",
       "        vertical-align: middle;\n",
       "    }\n",
       "\n",
       "    .dataframe tbody tr th {\n",
       "        vertical-align: top;\n",
       "    }\n",
       "\n",
       "    .dataframe thead th {\n",
       "        text-align: right;\n",
       "    }\n",
       "</style>\n",
       "<table border=\"1\" class=\"dataframe\">\n",
       "  <thead>\n",
       "    <tr style=\"text-align: right;\">\n",
       "      <th></th>\n",
       "      <th>sepal length (cm)</th>\n",
       "      <th>sepal width (cm)</th>\n",
       "      <th>petal length (cm)</th>\n",
       "      <th>petal width (cm)</th>\n",
       "      <th>target</th>\n",
       "      <th>species</th>\n",
       "    </tr>\n",
       "  </thead>\n",
       "  <tbody>\n",
       "    <tr>\n",
       "      <th>0</th>\n",
       "      <td>5.1</td>\n",
       "      <td>3.5</td>\n",
       "      <td>1.4</td>\n",
       "      <td>0.2</td>\n",
       "      <td>0</td>\n",
       "      <td>setosa</td>\n",
       "    </tr>\n",
       "    <tr>\n",
       "      <th>1</th>\n",
       "      <td>4.9</td>\n",
       "      <td>3.0</td>\n",
       "      <td>1.4</td>\n",
       "      <td>0.2</td>\n",
       "      <td>0</td>\n",
       "      <td>setosa</td>\n",
       "    </tr>\n",
       "    <tr>\n",
       "      <th>2</th>\n",
       "      <td>4.7</td>\n",
       "      <td>3.2</td>\n",
       "      <td>1.3</td>\n",
       "      <td>0.2</td>\n",
       "      <td>0</td>\n",
       "      <td>setosa</td>\n",
       "    </tr>\n",
       "    <tr>\n",
       "      <th>3</th>\n",
       "      <td>4.6</td>\n",
       "      <td>3.1</td>\n",
       "      <td>1.5</td>\n",
       "      <td>0.2</td>\n",
       "      <td>0</td>\n",
       "      <td>setosa</td>\n",
       "    </tr>\n",
       "    <tr>\n",
       "      <th>4</th>\n",
       "      <td>5.0</td>\n",
       "      <td>3.6</td>\n",
       "      <td>1.4</td>\n",
       "      <td>0.2</td>\n",
       "      <td>0</td>\n",
       "      <td>setosa</td>\n",
       "    </tr>\n",
       "  </tbody>\n",
       "</table>\n",
       "</div>"
      ],
      "text/plain": [
       "   sepal length (cm)  sepal width (cm)  petal length (cm)  petal width (cm)  \\\n",
       "0                5.1               3.5                1.4               0.2   \n",
       "1                4.9               3.0                1.4               0.2   \n",
       "2                4.7               3.2                1.3               0.2   \n",
       "3                4.6               3.1                1.5               0.2   \n",
       "4                5.0               3.6                1.4               0.2   \n",
       "\n",
       "   target species  \n",
       "0       0  setosa  \n",
       "1       0  setosa  \n",
       "2       0  setosa  \n",
       "3       0  setosa  \n",
       "4       0  setosa  "
      ]
     },
     "execution_count": 5,
     "metadata": {},
     "output_type": "execute_result"
    }
   ],
   "source": [
    "iris_data.head()"
   ]
  },
  {
   "cell_type": "code",
   "execution_count": 71,
   "metadata": {},
   "outputs": [
    {
     "data": {
      "text/plain": [
       "Text(0,0.5,'Petal width')"
      ]
     },
     "execution_count": 71,
     "metadata": {},
     "output_type": "execute_result"
    },
    {
     "data": {
      "image/png": "[encoded data removed]",
      "text/plain": [
       "<Figure size 432x288 with 1 Axes>"
      ]
     },
     "metadata": {},
     "output_type": "display_data"
    }
   ],
   "source": [
    "# Plot the training points\n",
    "plt.scatter(iris_data.iloc[:, 0], iris_data.iloc[:, 2], c=iris_data[\"target\"], cmap=plt.cm.Set1, edgecolor='k')\n",
    "plt.xlabel('Sepal length')\n",
    "plt.ylabel('Petal width')\n"
   ]
  },
  {
   "cell_type": "markdown",
   "metadata": {},
   "source": [
    "# Model Training"
   ]
  },
  {
   "cell_type": "code",
   "execution_count": 7,
   "metadata": {},
   "outputs": [],
   "source": [
    "from sagemaker import KMeans\n",
    "from sklearn.model_selection import train_test_split"
   ]
  },
  {
   "cell_type": "code",
   "execution_count": 8,
   "metadata": {},
   "outputs": [
    {
     "name": "stderr",
     "output_type": "stream",
     "text": [
      "/home/ec2-user/anaconda3/envs/python3/lib/python3.6/site-packages/sklearn/model_selection/_split.py:2026: FutureWarning: From version 0.21, test_size will always complement train_size unless both are specified.\n",
      "  FutureWarning)\n"
     ]
    }
   ],
   "source": [
    "train, test = train_test_split(iris_data, train_size=0.8)"
   ]
  },
  {
   "cell_type": "code",
   "execution_count": 9,
   "metadata": {},
   "outputs": [],
   "source": [
    "train = train.reset_index(drop=True)\n",
    "test = test.reset_index(drop=True)"
   ]
  },
  {
   "cell_type": "code",
   "execution_count": 10,
   "metadata": {},
   "outputs": [
    {
     "data": {
      "text/html": [
       "<div>\n",
       "<style scoped>\n",
       "    .dataframe tbody tr th:only-of-type {\n",
       "        vertical-align: middle;\n",
       "    }\n",
       "\n",
       "    .dataframe tbody tr th {\n",
       "        vertical-align: top;\n",
       "    }\n",
       "\n",
       "    .dataframe thead th {\n",
       "        text-align: right;\n",
       "    }\n",
       "</style>\n",
       "<table border=\"1\" class=\"dataframe\">\n",
       "  <thead>\n",
       "    <tr style=\"text-align: right;\">\n",
       "      <th></th>\n",
       "      <th>sepal length (cm)</th>\n",
       "      <th>sepal width (cm)</th>\n",
       "      <th>petal length (cm)</th>\n",
       "      <th>petal width (cm)</th>\n",
       "      <th>target</th>\n",
       "      <th>species</th>\n",
       "    </tr>\n",
       "  </thead>\n",
       "  <tbody>\n",
       "    <tr>\n",
       "      <th>0</th>\n",
       "      <td>4.9</td>\n",
       "      <td>2.4</td>\n",
       "      <td>3.3</td>\n",
       "      <td>1.0</td>\n",
       "      <td>1</td>\n",
       "      <td>versicolor</td>\n",
       "    </tr>\n",
       "    <tr>\n",
       "      <th>1</th>\n",
       "      <td>6.3</td>\n",
       "      <td>3.4</td>\n",
       "      <td>5.6</td>\n",
       "      <td>2.4</td>\n",
       "      <td>2</td>\n",
       "      <td>virginica</td>\n",
       "    </tr>\n",
       "    <tr>\n",
       "      <th>2</th>\n",
       "      <td>5.1</td>\n",
       "      <td>3.8</td>\n",
       "      <td>1.6</td>\n",
       "      <td>0.2</td>\n",
       "      <td>0</td>\n",
       "      <td>setosa</td>\n",
       "    </tr>\n",
       "    <tr>\n",
       "      <th>3</th>\n",
       "      <td>7.7</td>\n",
       "      <td>3.0</td>\n",
       "      <td>6.1</td>\n",
       "      <td>2.3</td>\n",
       "      <td>2</td>\n",
       "      <td>virginica</td>\n",
       "    </tr>\n",
       "    <tr>\n",
       "      <th>4</th>\n",
       "      <td>5.0</td>\n",
       "      <td>3.4</td>\n",
       "      <td>1.6</td>\n",
       "      <td>0.4</td>\n",
       "      <td>0</td>\n",
       "      <td>setosa</td>\n",
       "    </tr>\n",
       "  </tbody>\n",
       "</table>\n",
       "</div>"
      ],
      "text/plain": [
       "   sepal length (cm)  sepal width (cm)  petal length (cm)  petal width (cm)  \\\n",
       "0                4.9               2.4                3.3               1.0   \n",
       "1                6.3               3.4                5.6               2.4   \n",
       "2                5.1               3.8                1.6               0.2   \n",
       "3                7.7               3.0                6.1               2.3   \n",
       "4                5.0               3.4                1.6               0.4   \n",
       "\n",
       "   target     species  \n",
       "0       1  versicolor  \n",
       "1       2   virginica  \n",
       "2       0      setosa  \n",
       "3       2   virginica  \n",
       "4       0      setosa  "
      ]
     },
     "execution_count": 10,
     "metadata": {},
     "output_type": "execute_result"
    }
   ],
   "source": [
    "train.head()"
   ]
  },
  {
   "cell_type": "markdown",
   "metadata": {},
   "source": [
    "Define Training job:"
   ]
  },
  {
   "cell_type": "code",
   "execution_count": 11,
   "metadata": {},
   "outputs": [
    {
     "name": "stdout",
     "output_type": "stream",
     "text": [
      "training data will be uploaded to: s3://sagemaker-test-mdebbich/test-iris/kmeans/train_data\n",
      "training artifacts will be uploaded to: s3://sagemaker-test-mdebbich/test-iris/kmeans/output\n"
     ]
    }
   ],
   "source": [
    "data_location = 's3://{}/{}/train_data'.format(bucket, prefix)\n",
    "output_location = 's3://{}/{}/output'.format(bucket, prefix)\n",
    "\n",
    "print('training data will be uploaded to: {}'.format(data_location))\n",
    "print('training artifacts will be uploaded to: {}'.format(output_location))\n",
    "\n",
    "kmeans = KMeans(\n",
    "    role=role,\n",
    "    train_instance_count=1,\n",
    "    train_instance_type='ml.m5.large',\n",
    "    output_path=output_location,\n",
    "    k=3,\n",
    "    data_location=data_location\n",
    ")\n"
   ]
  },
  {
   "cell_type": "markdown",
   "metadata": {},
   "source": [
    "Convert input to Sagemaker's kmeans expected format:"
   ]
  },
  {
   "cell_type": "code",
   "execution_count": 24,
   "metadata": {},
   "outputs": [
    {
     "data": {
      "text/plain": [
       "array([[4.9, 2.4, 3.3, 1. ],\n",
       "       [6.3, 3.4, 5.6, 2.4],\n",
       "       [5.1, 3.8, 1.6, 0.2],\n",
       "       [7.7, 3. , 6.1, 2.3],\n",
       "       [5. , 3.4, 1.6, 0.4],\n",
       "       [7.1, 3. , 5.9, 2.1],\n",
       "       [6.3, 3.3, 4.7, 1.6],\n",
       "       [6.1, 3. , 4.6, 1.4],\n",
       "       [5.1, 3.8, 1.9, 0.4],\n",
       "       [6. , 3.4, 4.5, 1.6]], dtype=float32)"
      ]
     },
     "execution_count": 24,
     "metadata": {},
     "output_type": "execute_result"
    }
   ],
   "source": [
    "train_input = np.array(train.iloc[:, :4]).astype('float32')\n",
    "train_input[:10, :]"
   ]
  },
  {
   "cell_type": "markdown",
   "metadata": {},
   "source": [
    "Run the training job:"
   ]
  },
  {
   "cell_type": "code",
   "execution_count": 25,
   "metadata": {},
   "outputs": [
    {
     "name": "stderr",
     "output_type": "stream",
     "text": [
      "INFO:sagemaker:Creating training-job with name: kmeans-2019-03-07-17-14-26-104\n"
     ]
    },
    {
     "name": "stdout",
     "output_type": "stream",
     "text": [
      "2019-03-07 17:14:26 Starting - Starting the training job...\n",
      "2019-03-07 17:14:27 Starting - Launching requested ML instances...\n",
      "2019-03-07 17:15:26 Starting - Preparing the instances for training.........\n",
      "2019-03-07 17:16:45 Downloading - Downloading input data..\n",
      "\u001b[31mDocker entrypoint called with argument(s): train\u001b[0m\n",
      "\u001b[31m[03/07/2019 17:17:07 INFO 139698254088000] Reading default configuration from /opt/amazon/lib/python2.7/site-packages/algorithm/resources/default-input.json: {u'_enable_profiler': u'false', u'_tuning_objective_metric': u'', u'_num_gpus': u'auto', u'local_lloyd_num_trials': u'auto', u'_log_level': u'info', u'_kvstore': u'auto', u'local_lloyd_init_method': u'kmeans++', u'force_dense': u'true', u'epochs': u'1', u'init_method': u'random', u'local_lloyd_tol': u'0.0001', u'local_lloyd_max_iter': u'300', u'_disable_wait_to_read': u'false', u'extra_center_factor': u'auto', u'eval_metrics': u'[\"msd\"]', u'_num_kv_servers': u'1', u'mini_batch_size': u'5000', u'half_life_time_size': u'0', u'_num_slices': u'1'}\u001b[0m\n",
      "\u001b[31m[03/07/2019 17:17:07 INFO 139698254088000] Reading provided configuration from /opt/ml/input/config/hyperparameters.json: {u'feature_dim': u'4', u'k': u'3', u'force_dense': u'True'}\u001b[0m\n",
      "\u001b[31m[03/07/2019 17:17:07 INFO 139698254088000] Final configuration: {u'_tuning_objective_metric': u'', u'extra_center_factor': u'auto', u'local_lloyd_init_method': u'kmeans++', u'force_dense': u'True', u'epochs': u'1', u'feature_dim': u'4', u'local_lloyd_tol': u'0.0001', u'_disable_wait_to_read': u'false', u'eval_metrics': u'[\"msd\"]', u'_num_kv_servers': u'1', u'mini_batch_size': u'5000', u'_enable_profiler': u'false', u'_num_gpus': u'auto', u'local_lloyd_num_trials': u'auto', u'_log_level': u'info', u'init_method': u'random', u'half_life_time_size': u'0', u'local_lloyd_max_iter': u'300', u'_kvstore': u'auto', u'k': u'3', u'_num_slices': u'1'}\u001b[0m\n",
      "\u001b[31m[03/07/2019 17:17:07 WARNING 139698254088000] Loggers have already been setup.\u001b[0m\n",
      "\u001b[31mProcess 1 is a worker.\u001b[0m\n",
      "\u001b[31m[03/07/2019 17:17:07 INFO 139698254088000] Using default worker.\u001b[0m\n",
      "\u001b[31m[03/07/2019 17:17:07 INFO 139698254088000] Loaded iterator creator application/x-recordio-protobuf for content type ('application/x-recordio-protobuf', '1.0')\u001b[0m\n",
      "\u001b[31m[03/07/2019 17:17:07 INFO 139698254088000] Create Store: local\u001b[0m\n",
      "\u001b[31m[03/07/2019 17:17:07 INFO 139698254088000] nvidia-smi took: 0.0251371860504 secs to identify 0 gpus\u001b[0m\n",
      "\u001b[31m[03/07/2019 17:17:07 INFO 139698254088000] Number of GPUs being used: 0\u001b[0m\n",
      "\u001b[31m[2019-03-07 17:17:07.408] [tensorio] [info] batch={\"data_pipeline\": \"/opt/ml/input/data/train\", \"num_examples\": 5000, \"features\": [{\"name\": \"values\", \"shape\": [4], \"storage_type\": \"dense\"}]}\u001b[0m\n",
      "\u001b[31m[03/07/2019 17:17:07 INFO 139698254088000] Setting up with params: {u'_tuning_objective_metric': u'', u'extra_center_factor': u'auto', u'local_lloyd_init_method': u'kmeans++', u'force_dense': u'True', u'epochs': u'1', u'feature_dim': u'4', u'local_lloyd_tol': u'0.0001', u'_disable_wait_to_read': u'false', u'eval_metrics': u'[\"msd\"]', u'_num_kv_servers': u'1', u'mini_batch_size': u'5000', u'_enable_profiler': u'false', u'_num_gpus': u'auto', u'local_lloyd_num_trials': u'auto', u'_log_level': u'info', u'init_method': u'random', u'half_life_time_size': u'0', u'local_lloyd_max_iter': u'300', u'_kvstore': u'auto', u'k': u'3', u'_num_slices': u'1'}\u001b[0m\n",
      "\u001b[31m/opt/amazon/lib/python2.7/site-packages/ai_algorithms_sdk/config/config_helper.py:172: DeprecationWarning: deprecated\n",
      "  warnings.warn(\"deprecated\", DeprecationWarning)\u001b[0m\n",
      "\u001b[31m/opt/amazon/lib/python2.7/site-packages/ai_algorithms_sdk/config/config_helper.py:122: DeprecationWarning: deprecated\n",
      "  warnings.warn(\"deprecated\", DeprecationWarning)\u001b[0m\n",
      "\u001b[31m[03/07/2019 17:17:07 INFO 139698254088000] Number of GPUs being used: 0\u001b[0m\n",
      "\u001b[31m[03/07/2019 17:17:07 INFO 139698254088000] number of center slices 1\u001b[0m\n",
      "\u001b[31m[03/07/2019 17:17:07 WARNING 139698254088000] Batch size 5000 is bigger than the first batch data. Effective batch size used to initialize is 120\u001b[0m\n",
      "\u001b[31m#metrics {\"Metrics\": {\"Max Batches Seen Between Resets\": {\"count\": 1, \"max\": 1, \"sum\": 1.0, \"min\": 1}, \"Number of Batches Since Last Reset\": {\"count\": 1, \"max\": 1, \"sum\": 1.0, \"min\": 1}, \"Number of Records Since Last Reset\": {\"count\": 1, \"max\": 120, \"sum\": 120.0, \"min\": 120}, \"Total Batches Seen\": {\"count\": 1, \"max\": 1, \"sum\": 1.0, \"min\": 1}, \"Total Records Seen\": {\"count\": 1, \"max\": 120, \"sum\": 120.0, \"min\": 120}, \"Max Records Seen Between Resets\": {\"count\": 1, \"max\": 120, \"sum\": 120.0, \"min\": 120}, \"Reset Count\": {\"count\": 1, \"max\": 0, \"sum\": 0.0, \"min\": 0}}, \"EndTime\": 1551979027.418893, \"Dimensions\": {\"Host\": \"algo-1\", \"Meta\": \"init_train_data_iter\", \"Operation\": \"training\", \"Algorithm\": \"AWS/KMeansWebscale\"}, \"StartTime\": 1551979027.418865}\n",
      "\u001b[0m\n",
      "\u001b[31m[2019-03-07 17:17:07.419] [tensorio] [info] data_pipeline_stats={\"name\": \"/opt/ml/input/data/train\", \"epoch\": 0, \"duration\": 10, \"num_examples\": 1}\u001b[0m\n",
      "\u001b[31m[03/07/2019 17:17:07 INFO 139698254088000] processed a total of 120 examples\u001b[0m\n",
      "\u001b[31m[03/07/2019 17:17:07 INFO 139698254088000] #progress_metric: host=algo-1, completed 100 % of epochs\u001b[0m\n",
      "\u001b[31m#metrics {\"Metrics\": {\"Max Batches Seen Between Resets\": {\"count\": 1, \"max\": 1, \"sum\": 1.0, \"min\": 1}, \"Number of Batches Since Last Reset\": {\"count\": 1, \"max\": 1, \"sum\": 1.0, \"min\": 1}, \"Number of Records Since Last Reset\": {\"count\": 1, \"max\": 120, \"sum\": 120.0, \"min\": 120}, \"Total Batches Seen\": {\"count\": 1, \"max\": 2, \"sum\": 2.0, \"min\": 2}, \"Total Records Seen\": {\"count\": 1, \"max\": 240, \"sum\": 240.0, \"min\": 240}, \"Max Records Seen Between Resets\": {\"count\": 1, \"max\": 120, \"sum\": 120.0, \"min\": 120}, \"Reset Count\": {\"count\": 1, \"max\": 1, \"sum\": 1.0, \"min\": 1}}, \"EndTime\": 1551979027.451133, \"Dimensions\": {\"Host\": \"algo-1\", \"Meta\": \"training_data_iter\", \"Operation\": \"training\", \"Algorithm\": \"AWS/KMeansWebscale\", \"epoch\": 0}, \"StartTime\": 1551979027.419097}\n",
      "\u001b[0m\n",
      "\u001b[31m[03/07/2019 17:17:07 INFO 139698254088000] #throughput_metric: host=algo-1, train throughput=3732.97100052 records/second\u001b[0m\n",
      "\u001b[31m[03/07/2019 17:17:07 WARNING 139698254088000] wait_for_all_workers will not sync workers since the kv store is not running distributed\u001b[0m\n",
      "\u001b[31m[03/07/2019 17:17:07 INFO 139698254088000] shrinking 30 centers into 3\u001b[0m\n",
      "\u001b[31m[03/07/2019 17:17:07 INFO 139698254088000] local kmeans attempt #0. Current mean square distance 0.358225\u001b[0m\n",
      "\u001b[31m[03/07/2019 17:17:07 INFO 139698254088000] local kmeans attempt #1. Current mean square distance 0.363340\u001b[0m\n",
      "\u001b[31m[03/07/2019 17:17:07 INFO 139698254088000] local kmeans attempt #2. Current mean square distance 0.363340\u001b[0m\n",
      "\u001b[31m[03/07/2019 17:17:07 INFO 139698254088000] local kmeans attempt #3. Current mean square distance 0.358225\u001b[0m\n",
      "\u001b[31m[03/07/2019 17:17:07 INFO 139698254088000] local kmeans attempt #4. Current mean square distance 0.363340\u001b[0m\n",
      "\u001b[31m[03/07/2019 17:17:07 INFO 139698254088000] local kmeans attempt #5. Current mean square distance 0.358225\u001b[0m\n",
      "\u001b[31m[03/07/2019 17:17:07 INFO 139698254088000] local kmeans attempt #6. Current mean square distance 0.358225\u001b[0m\n",
      "\u001b[31m[03/07/2019 17:17:07 INFO 139698254088000] local kmeans attempt #7. Current mean square distance 0.358225\u001b[0m\n",
      "\u001b[31m[03/07/2019 17:17:07 INFO 139698254088000] local kmeans attempt #8. Current mean square distance 0.358225\u001b[0m\n",
      "\u001b[31m[03/07/2019 17:17:07 INFO 139698254088000] local kmeans attempt #9. Current mean square distance 0.363340\u001b[0m\n",
      "\u001b[31m[03/07/2019 17:17:07 INFO 139698254088000] finished shrinking process. Mean Square Distance = 0\u001b[0m\n",
      "\u001b[31m[03/07/2019 17:17:07 INFO 139698254088000] #quality_metric: host=algo-1, train msd <loss>=0.358225315809\u001b[0m\n",
      "\u001b[31m[03/07/2019 17:17:07 INFO 139698254088000] compute all data-center distances: inner product took: 32.9125%, (0.010975 secs)\u001b[0m\n",
      "\u001b[31m[03/07/2019 17:17:07 INFO 139698254088000] compute all data-center distances: point norm took: 31.0614%, (0.010358 secs)\u001b[0m\n",
      "\u001b[31m[03/07/2019 17:17:07 INFO 139698254088000] gradient: cluster center took: 8.0249%, (0.002676 secs)\u001b[0m\n",
      "\u001b[31m[03/07/2019 17:17:07 INFO 139698254088000] predict compute msd took: 7.3986%, (0.002467 secs)\u001b[0m\n",
      "\u001b[31m[03/07/2019 17:17:07 INFO 139698254088000] collect from kv store took: 6.5399%, (0.002181 secs)\u001b[0m\n",
      "\u001b[31m[03/07/2019 17:17:07 INFO 139698254088000] splitting centers key-value pair took: 6.3726%, (0.002125 secs)\u001b[0m\n",
      "\u001b[31m[03/07/2019 17:17:07 INFO 139698254088000] batch data loading with context took: 2.7476%, (0.000916 secs)\u001b[0m\n",
      "\u001b[31m[03/07/2019 17:17:07 INFO 139698254088000] gradient: one_hot took: 2.2014%, (0.000734 secs)\u001b[0m\n",
      "\u001b[31m[03/07/2019 17:17:07 INFO 139698254088000] update state and report convergance took: 1.1997%, (0.000400 secs)\u001b[0m\n",
      "\u001b[31m[03/07/2019 17:17:07 INFO 139698254088000] update set-up time took: 0.5941%, (0.000198 secs)\u001b[0m\n",
      "\u001b[31m[03/07/2019 17:17:07 INFO 139698254088000] compute all data-center distances: center norm took: 0.4676%, (0.000156 secs)\u001b[0m\n",
      "\u001b[31m[03/07/2019 17:17:07 INFO 139698254088000] gradient: cluster size  took: 0.4318%, (0.000144 secs)\u001b[0m\n",
      "\u001b[31m[03/07/2019 17:17:07 INFO 139698254088000] predict minus dist took: 0.0479%, (0.000016 secs)\u001b[0m\n",
      "\u001b[31m[03/07/2019 17:17:07 INFO 139698254088000] TOTAL took: 0.033346414566\u001b[0m\n",
      "\u001b[31m[03/07/2019 17:17:07 INFO 139698254088000] Number of GPUs being used: 0\u001b[0m\n",
      "\u001b[31m#metrics {\"Metrics\": {\"finalize.time\": {\"count\": 1, \"max\": 161.8061065673828, \"sum\": 161.8061065673828, \"min\": 161.8061065673828}, \"initialize.time\": {\"count\": 1, \"max\": 7.715940475463867, \"sum\": 7.715940475463867, \"min\": 7.715940475463867}, \"model.serialize.time\": {\"count\": 1, \"max\": 0.13399124145507812, \"sum\": 0.13399124145507812, \"min\": 0.13399124145507812}, \"update.time\": {\"count\": 1, \"max\": 31.65602684020996, \"sum\": 31.65602684020996, \"min\": 31.65602684020996}, \"epochs\": {\"count\": 1, \"max\": 1, \"sum\": 1.0, \"min\": 1}, \"state.serialize.time\": {\"count\": 1, \"max\": 0.7050037384033203, \"sum\": 0.7050037384033203, \"min\": 0.7050037384033203}, \"_shrink.time\": {\"count\": 1, \"max\": 160.7069969177246, \"sum\": 160.7069969177246, \"min\": 160.7069969177246}}, \"EndTime\": 1551979027.614982, \"Dimensions\": {\"Host\": \"algo-1\", \"Operation\": \"training\", \"Algorithm\": \"AWS/KMeansWebscale\"}, \"StartTime\": 1551979027.40503}\n",
      "\u001b[0m\n",
      "\u001b[31m[03/07/2019 17:17:07 INFO 139698254088000] Test data is not provided.\u001b[0m\n",
      "\u001b[31m[2019-03-07 17:17:07.615] [tensorio] [info] data_pipeline_stats={\"name\": \"/opt/ml/input/data/train\", \"epoch\": 1, \"duration\": 195, \"num_examples\": 1}\u001b[0m\n",
      "\u001b[31m[2019-03-07 17:17:07.615] [tensorio] [info] data_pipeline_stats={\"name\": \"/opt/ml/input/data/train\", \"duration\": 205, \"num_epochs\": 2, \"num_examples\": 2}\u001b[0m\n",
      "\u001b[31m#metrics {\"Metrics\": {\"totaltime\": {\"count\": 1, \"max\": 276.8378257751465, \"sum\": 276.8378257751465, \"min\": 276.8378257751465}, \"setuptime\": {\"count\": 1, \"max\": 17.808914184570312, \"sum\": 17.808914184570312, \"min\": 17.808914184570312}}, \"EndTime\": 1551979027.615286, \"Dimensions\": {\"Host\": \"algo-1\", \"Operation\": \"training\", \"Algorithm\": \"AWS/KMeansWebscale\"}, \"StartTime\": 1551979027.615076}\n",
      "\u001b[0m\n",
      "\n",
      "2019-03-07 17:17:17 Training - Training image download completed. Training in progress.\n",
      "2019-03-07 17:17:17 Uploading - Uploading generated training model\n",
      "2019-03-07 17:17:17 Completed - Training job completed\n",
      "Billable seconds: 33\n"
     ]
    }
   ],
   "source": [
    "kmeans.fit(kmeans.record_set(train_input))"
   ]
  },
  {
   "cell_type": "markdown",
   "metadata": {},
   "source": [
    "# Model Deployment"
   ]
  },
  {
   "cell_type": "code",
   "execution_count": 29,
   "metadata": {},
   "outputs": [
    {
     "name": "stderr",
     "output_type": "stream",
     "text": [
      "INFO:sagemaker:Creating model with name: kmeans-2019-03-07-17-21-48-825\n",
      "INFO:sagemaker:Creating endpoint with name kmeans\n"
     ]
    },
    {
     "name": "stdout",
     "output_type": "stream",
     "text": [
      "---------------------------------------------------------------------------!"
     ]
    }
   ],
   "source": [
    "kmeans_predictor = kmeans.deploy(\n",
    "    initial_instance_count=1,\n",
    "    instance_type='ml.t2.medium',\n",
    "    endpoint_name='kmeans'\n",
    ")"
   ]
  },
  {
   "cell_type": "markdown",
   "metadata": {},
   "source": [
    "# Endpoint Test"
   ]
  },
  {
   "cell_type": "code",
   "execution_count": 30,
   "metadata": {},
   "outputs": [],
   "source": [
    "test_data_location = 's3://{}/{}/test_data'.format(bucket, prefix)"
   ]
  },
  {
   "cell_type": "code",
   "execution_count": 31,
   "metadata": {},
   "outputs": [
    {
     "data": {
      "text/plain": [
       "'s3://sagemaker-test-mdebbich/test-iris/kmeans/test_data'"
      ]
     },
     "execution_count": 31,
     "metadata": {},
     "output_type": "execute_result"
    }
   ],
   "source": [
    "test_data_location"
   ]
  },
  {
   "cell_type": "code",
   "execution_count": 63,
   "metadata": {},
   "outputs": [],
   "source": [
    "test_set = np.array(test.iloc[:, :4]).astype('float32')"
   ]
  },
  {
   "cell_type": "code",
   "execution_count": 64,
   "metadata": {},
   "outputs": [
    {
     "data": {
      "text/plain": [
       "array([[5.4, 3.9, 1.7, 0.4],\n",
       "       [6.7, 3.1, 4.7, 1.5],\n",
       "       [5.4, 3.7, 1.5, 0.2],\n",
       "       [5. , 2.3, 3.3, 1. ],\n",
       "       [6. , 3. , 4.8, 1.8],\n",
       "       [6. , 2.7, 5.1, 1.6],\n",
       "       [5.1, 3.5, 1.4, 0.2],\n",
       "       [4.5, 2.3, 1.3, 0.3],\n",
       "       [7.6, 3. , 6.6, 2.1],\n",
       "       [6.2, 3.4, 5.4, 2.3]], dtype=float32)"
      ]
     },
     "execution_count": 64,
     "metadata": {},
     "output_type": "execute_result"
    }
   ],
   "source": [
    "test_set[:10, :]"
   ]
  },
  {
   "cell_type": "code",
   "execution_count": 65,
   "metadata": {},
   "outputs": [],
   "source": [
    "results = kmeans_predictor.predict(test_set)"
   ]
  },
  {
   "cell_type": "code",
   "execution_count": 66,
   "metadata": {},
   "outputs": [],
   "source": [
    "clusters = np.array([r.label['closest_cluster'].float32_tensor.values[0] for r in results])"
   ]
  },
  {
   "cell_type": "code",
   "execution_count": 67,
   "metadata": {},
   "outputs": [
    {
     "data": {
      "text/plain": [
       "array([0., 1., 0., 1., 1., 1., 0., 0., 2., 2., 1., 0., 1., 0., 0., 0., 2.,\n",
       "       1., 2., 2., 2., 1., 2., 1., 2., 0., 0., 0., 1., 1.])"
      ]
     },
     "execution_count": 67,
     "metadata": {},
     "output_type": "execute_result"
    }
   ],
   "source": [
    "clusters"
   ]
  },
  {
   "cell_type": "code",
   "execution_count": 70,
   "metadata": {},
   "outputs": [
    {
     "data": {
      "text/plain": [
       "Text(0,0.5,'Petal length')"
      ]
     },
     "execution_count": 70,
     "metadata": {},
     "output_type": "execute_result"
    },
    {
     "data": {
      "image/png": "[encoded data removed]",
      "text/plain": [
       "<Figure size 432x288 with 1 Axes>"
      ]
     },
     "metadata": {},
     "output_type": "display_data"
    }
   ],
   "source": [
    "# Plot the training points\n",
    "plt.scatter(test_set[:, 0], test_set[:, 2], c=clusters, cmap=plt.cm.Set1, edgecolor='k')\n",
    "plt.xlabel('Sepal length')\n",
    "plt.ylabel('Petal length')"
   ]
  },
  {
   "cell_type": "code",
   "execution_count": null,
   "metadata": {},
   "outputs": [],
   "source": [
    "# Remove the endpoint:\n",
    "# kmeans_predictor.delete_endpoint()"
   ]
  }
 ],
 "metadata": {
  "kernelspec": {
   "display_name": "conda_python3",
   "language": "python",
   "name": "conda_python3"
  },
  "language_info": {
   "codemirror_mode": {
    "name": "ipython",
    "version": 3
   },
   "file_extension": ".py",
   "mimetype": "text/x-python",
   "name": "python",
   "nbconvert_exporter": "python",
   "pygments_lexer": "ipython3",
   "version": "3.6.5"
  }
 },
 "nbformat": 4,
 "nbformat_minor": 2
}
